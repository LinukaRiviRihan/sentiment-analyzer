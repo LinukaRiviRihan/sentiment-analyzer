{
 "cells": [
  {
   "cell_type": "markdown",
   "metadata": {},
   "source": [
    "<p>\n",
    "  <strong>Name -</strong> H D Linuka Rivi Rihan\n",
    "</p>\n",
    "<p>\n",
    "  <strong>UOW ID -</strong> w1901418\n",
    "</p>\n",
    "<p>\n",
    "  <strong>IIT ID -</strong> 20211413\n",
    "</p>"
   ]
  },
  {
   "cell_type": "markdown",
   "metadata": {},
   "source": [
    "# Part A - Application Area Review"
   ]
  },
  {
   "cell_type": "markdown",
   "metadata": {},
   "source": [
    "## The Role of AI in Sentiment Analysis for Market Analysis\n",
    "\n",
    "Sentiment analysis, often called opinion mining, involves using artificial intelligence (AI) to analyze and interpret emotions, opinions, and attitudes from textual data. It has become a cornerstone in market analysis, empowering businesses to understand customer sentiments, predict market trends, and enhance decision-making processes. With the growing volume of data from social media, reviews, blogs, and other platforms, sentiment analysis has emerged as a critical tool for staying competitive in today's dynamic markets.\n",
    "\n",
    "### Key Applications in Market Analysis\n",
    "\n",
    "1. **Customer Feedback Analysis**\n",
    "\n",
    "   Businesses rely heavily on customer feedback to improve products and services. AI-powered sentiment analysis helps to identify underlying sentiments in customer reviews and feedback, categorizing them as positive, negative, or neutral. For instance, retailers like Amazon use sentiment analysis to assess product reviews, enabling sellers to optimize offerings based on customer preferences and pain points.\n",
    "\n",
    "2. **Social Media Monitoring**\n",
    "\n",
    "   Social media platforms generate a vast amount of unstructured data daily. Sentiment analysis helps brands gauge public opinion about their products, services, or marketing campaigns. By analyzing hashtags, mentions, and comments, companies can monitor their brand reputation and measure the success of promotional efforts.\n",
    "\n",
    "3. **Competitor Analysis**\n",
    "\n",
    "   Sentiment analysis extends beyond self-evaluation to provide insights into competitors. By studying customer opinions on competing products, companies can identify areas of differentiation and opportunities for market penetration.\n",
    "\n",
    "4. **Market Trend Prediction**\n",
    "\n",
    "   AI-driven sentiment analysis enables businesses to predict market trends by analyzing historical and real-time data. For example, during major events or product launches, companies can track sentiments to adjust strategies proactively.\n",
    "\n",
    "### Techniques in Sentiment Analysis\n",
    "\n",
    "1. **Natural Language Processing (NLP)**\n",
    "\n",
    "   NLP is the foundation of sentiment analysis. It involves:\n",
    "\n",
    "   - **Tokenization**: Breaking text into individual words or phrases.\n",
    "   - **Named Entity Recognition (NER)**: Extracting entities like product names or brands.\n",
    "\n",
    "2. **Machine Learning Models**\n",
    "\n",
    "   Supervised machine learning models are widely used for sentiment analysis. Common techniques include:\n",
    "\n",
    "   - **Support Vector Machines (SVM)**: Effective in binary sentiment classification (e.g., positive or negative).\n",
    "   - **Logistic Regression (LR)**: Known for its simplicity and effectiveness in text classification tasks (Priya et al., 2020).\n",
    "   - **Random Forests (RF)**: Combines multiple decision trees for better accuracy (Karthika et al., 2019).\n",
    "\n",
    "3. **Deep Learning Approaches**\n",
    "\n",
    "   Deep learning models like Recurrent Neural Networks (RNNs) and Transformers have significantly advanced sentiment analysis by capturing contextual information:\n",
    "\n",
    "   - **Long Short-Term Memory (LSTM)**: Effective in understanding long-term dependencies in text (Wang et al., 2019).\n",
    "   - **Bidirectional Encoder Representations from Transformers (BERT)**: Excel at understanding context and sentiment polarity (Agrawal et al., 2021).\n",
    "\n",
    "### Future Prospects\n",
    "\n",
    "The integration of sentiment analysis with other AI technologies such as computer vision and voice recognition is set to redefine market analysis. For example, combining sentiment analysis with image recognition can help brands analyze visual content like memes or product images on social media. Additionally, advancements in zero-shot and few-shot learning promise to make sentiment analysis models more adaptable to new domains with minimal training.\n",
    "\n",
    "Through this literature review, I found the latest techniques for sentiment analysis, leading to the following insights.\n",
    "\n",
    "<table>\n",
    "  <tr>\n",
    "    <th style=\"width: 25%;\">Source</th>\n",
    "    <th style=\"width: 10%;\">Techniques</th>\n",
    "    <th style=\"width: 50%;\">Findings</th>\n",
    "    <th style=\"width: 15%;\">Citation</th>\n",
    "  </tr>\n",
    "  <tr>\n",
    "    <td><a href=\"https://ieeexplore.ieee.org/stamp/stamp.jsp?tp=&arnumber=8940267\">Sentiment Analysis of Reviews Based on Deep Learning Model</a></td>\n",
    "    <td>RNN, LSTM, GRU</td>\n",
    "    <td>This paper investigates the use of deep learning models for sentiment analysis in reviews, emphasizing the effectiveness of RNN, LSTM, and GRU in handling sequential data, with LSTM and GRU overcoming the vanishing gradient problem.</td>\n",
    "    <td>Wang et al., 2019</td>\n",
    "  </tr>\n",
    "  <tr>\n",
    "    <td><a href=\"https://ieeexplore.ieee.org/stamp/stamp.jsp?tp=&arnumber=8951367\">Sentiment Analysis of Social Media Network Using Random Forest Algorithm</a></td>\n",
    "    <td>RF</td>\n",
    "    <td>This paper explores Random Forest (RF) for sentiment analysis on social media content, highlighting its ability to handle noisy data by aggregating multiple decision trees.</td>\n",
    "    <td>Karthika et al., 2019</td>\n",
    "  </tr>\n",
    "  <tr>\n",
    "    <td><a href=\"https://ieeexplore.ieee.org/stamp/stamp.jsp?tp=&arnumber=9074312\">A Comparative Sentiment Analysis Of Sentence Embedding Using Machine Learning Techniques</a></td>\n",
    "    <td>LR, SVM, MNB</td>\n",
    "    <td>A comparison of Logistic Regression (LR), Support Vector Machines (SVM), and Multinomial Naive Bayes (MNB) for sentiment analysis using sentence embeddings, with each model offering distinct advantages for text classification.</td>\n",
    "    <td>Priya et al., 2020</td>\n",
    "  </tr>\n",
    "  <tr>\n",
    "    <td><a href=\"https://ieeexplore.ieee.org/stamp/stamp.jsp?tp=&arnumber=9535535\">Sentiment Analysis of Short Informal Text by Tuning BERT - Bi-LSTM Model</a></td>\n",
    "    <td>Bi-LSTM</td>\n",
    "    <td>This paper applies the Bi-directional LSTM model for sentiment analysis of short, informal texts, demonstrating its effectiveness in capturing context from both directions of the text.</td>\n",
    "    <td>Agrawal et al., 2021</td>\n",
    "  </tr>\n",
    "  <tr>\n",
    "    <td><a href=\"https://ieeexplore.ieee.org/stamp/stamp.jsp?tp=&arnumber=10426266\">Sentiment Analysis with LSTM Recurrent Neural Network Approach for Movie Reviews using Deep Learning</a></td>\n",
    "    <td>RNN</td>\n",
    "    <td>This paper emphasizes the suitability of RNN for sentiment analysis of movie reviews, where long sequences and complex sentiment structures are prevalent.</td>\n",
    "    <td>Hegde et al., 2023</td>\n",
    "  </tr>\n",
    "  <tr>\n",
    "    <td><a href=\"https://ieeexplore.ieee.org/stamp/stamp.jsp?tp=&arnumber=10716161\">Sentiment analysis Optimization using Hybrid Machine Learning Techniques</a></td>\n",
    "    <td>NB, SVM, OneR</td>\n",
    "    <td>This paper presents a hybrid approach combining Naive Bayes (NB), Support Vector Machine (SVM), and OneR, showing that hybrid models can improve accuracy by leveraging the strengths of multiple algorithms.</td>\n",
    "    <td>Changala et al., 2024</td>\n",
    "  </tr>\n",
    "</table>\n"
   ]
  },
  {
   "cell_type": "markdown",
   "metadata": {},
   "source": [
    "# Part B - Compare and evaluate AI techniques"
   ]
  },
  {
   "cell_type": "markdown",
   "metadata": {},
   "source": [
    "## Sentiment Analysis Techniques\n",
    "\n",
    "<table>\n",
    "    <tr>\n",
    "        <th>Technique</th>\n",
    "        <th>Application in Sentiment Analysis</th>\n",
    "        <th>Data Availability</th>\n",
    "        <th>Time to Set Up</th>\n",
    "        <th>Time to Produce Results</th>\n",
    "        <th>Output</th>\n",
    "    </tr>\n",
    "    <tr>\n",
    "        <td>Support Vector Machine (SVM)</td>\n",
    "        <td>Binary and multi-class sentiment classification tasks. Effective for maximizing margin between classes.</td>\n",
    "        <td>Small to moderate-sized datasets. Public datasets like IMDb reviews, Yelp reviews, or Twitter sentiment datasets.</td>\n",
    "        <td>Moderate (few hours). Involves data preprocessing, model training, and hyperparameter tuning (kernel type, regularization parameter (C)).</td>\n",
    "        <td>Fast (seconds or minutes) for datasets with a few thousand samples.</td>\n",
    "        <td>Class labels, probability scores (if probability calibration is applied). Performs well when clear boundaries exist between sentiment classes.</td>\n",
    "    </tr>\n",
    "    <tr>\n",
    "        <td>Logistic Regression (LR)</td>\n",
    "        <td>Widely used for text classification due to its simplicity and efficiency. Models the relationship between input features and sentiment categories using a logistic function.</td>\n",
    "        <td>Preprocessed datasets such as movie reviews, product reviews, or social media data. Features are derived using TF-IDF, bag-of-words, or word embeddings. Public datasets like the IMDb Sentiment Dataset.</td>\n",
    "        <td>Straightforward. Involves data preprocessing, model training, and hyperparameter tuning (regularization strength (C)). Faster compared to deep learning models, especially on smaller datasets.</td>\n",
    "        <td>Computationally efficient. Can produce results within seconds for small datasets. Larger datasets may require slightly more time but remain efficient.</td>\n",
    "        <td>Probabilities for each sentiment class, making it easy to interpret predictions. (e.g., 80% probability for positive sentiment and 20% for negative).</td>\n",
    "    </tr>\n",
    "    <tr>\n",
    "        <td>Random Forest (RF)</td>\n",
    "        <td>An ensemble learning technique that combines multiple decision trees to improve classification accuracy. Particularly effective for handling imbalanced or noisy sentiment data.</td>\n",
    "        <td>Can handle a wide range of datasets, including structured and unstructured data. Text data for sentiment analysis is preprocessed into numerical vectors using TF-IDF or embeddings like GloVe or Word2Vec.</td>\n",
    "        <td>More effort than LR. Involves data preprocessing, model training (training multiple decision trees can be computationally intensive for large datasets), and hyperparameter tuning (number of trees, max depth, minimum samples split).</td>\n",
    "        <td>Slower compared to LR and SVM because it averages predictions from multiple decision trees. For datasets with thousands of samples, it may take several minutes to hours to produce results.</td>\n",
    "        <td>Class labels for sentiments and feature importance scores, offering insights into which features influence predictions the most. (e.g., certain keywords or phrases might be identified as critical indicators of sentiment.)</td>\n",
    "    </tr>\n",
    "</table>\n",
    "\n",
    "## Comparison Summary\n",
    "\n",
    "- **Data Availability:** All three techniques rely on preprocessed text data, often available publicly, such as movie reviews, product reviews, or social media data. \n",
    "\n",
    "- **Time to Set Up:** Logistic Regression (LR) has the fastest setup time, followed by Support Vector Machine (SVM), while Random Forest (RF) requires the most time due to training multiple decision trees.\n",
    "\n",
    "- **Time to Produce Results:** LR generally produces results the quickest, SVM is moderately fast, and RF is slower as it averages predictions from multiple trees.\n",
    "\n",
    "- **Output:** All models output sentiment class labels. However, RF additionally provides feature importance scores, offering insights into which features influence predictions the most, making it valuable for understanding the model's decision-making process."
   ]
  },
  {
   "cell_type": "markdown",
   "metadata": {},
   "source": [
    "# Part C - Implementation"
   ]
  },
  {
   "cell_type": "markdown",
   "metadata": {},
   "source": [
    "After comparing and evaluating the three techniques mentioned above, I have selected Logistic Regression (LR) as the most suitable option for the implementation of the prototype."
   ]
  },
  {
   "cell_type": "markdown",
   "metadata": {},
   "source": [
    "## Diagram\n",
    "\n",
    "<img src=\"diagram.png\" width=\"50%\">"
   ]
  },
  {
   "cell_type": "markdown",
   "metadata": {},
   "source": [
    "## Dataset\n",
    "\n",
    "I got this dataset from Kaggle, the world's largest data science community. The dataset has 40k training samples labelled as 1 & 0 for positive & negative reviews.\n",
    "\n",
    "| Data | Review Count | Percentage |\n",
    "|:----:|:------------:|:----------:|\n",
    "| Positive (1) | 20,019 | 50.1% |\n",
    "| Negative (0) | 19,981 | 49.9% |\n",
    "\n",
    "And this is a balanced dataset which is good for ML model performance."
   ]
  },
  {
   "cell_type": "code",
   "execution_count": null,
   "metadata": {},
   "outputs": [],
   "source": [
    "# Importing the necessary librarires\n",
    "\n",
    "import pandas as pd\n",
    "from sklearn.svm import SVC\n",
    "from sklearn.ensemble import RandomForestClassifier\n",
    "from sklearn.linear_model import LogisticRegression\n",
    "from sklearn.metrics import accuracy_score, f1_score, confusion_matrix, classification_report\n",
    "from IPython.display import display\n",
    "\n",
    "import matplotlib.pyplot as plt\n",
    "plt.rcParams['figure.figsize'] = [10,6]\n",
    "\n",
    "import warnings \n",
    "warnings.filterwarnings('ignore')"
   ]
  },
  {
   "cell_type": "code",
   "execution_count": 49,
   "metadata": {},
   "outputs": [
    {
     "data": {
      "text/html": [
       "<div>\n",
       "<style scoped>\n",
       "    .dataframe tbody tr th:only-of-type {\n",
       "        vertical-align: middle;\n",
       "    }\n",
       "\n",
       "    .dataframe tbody tr th {\n",
       "        vertical-align: top;\n",
       "    }\n",
       "\n",
       "    .dataframe thead th {\n",
       "        text-align: right;\n",
       "    }\n",
       "</style>\n",
       "<table border=\"1\" class=\"dataframe\">\n",
       "  <thead>\n",
       "    <tr style=\"text-align: right;\">\n",
       "      <th></th>\n",
       "      <th>label</th>\n",
       "      <th>text</th>\n",
       "    </tr>\n",
       "  </thead>\n",
       "  <tbody>\n",
       "    <tr>\n",
       "      <th>0</th>\n",
       "      <td>0</td>\n",
       "      <td>I grew up (b. 1965) watching and loving the Th...</td>\n",
       "    </tr>\n",
       "    <tr>\n",
       "      <th>1</th>\n",
       "      <td>0</td>\n",
       "      <td>When I put this movie in my DVD player, and sa...</td>\n",
       "    </tr>\n",
       "    <tr>\n",
       "      <th>2</th>\n",
       "      <td>0</td>\n",
       "      <td>Why do people who do not know what a particula...</td>\n",
       "    </tr>\n",
       "    <tr>\n",
       "      <th>3</th>\n",
       "      <td>0</td>\n",
       "      <td>Even though I have great interest in Biblical ...</td>\n",
       "    </tr>\n",
       "    <tr>\n",
       "      <th>4</th>\n",
       "      <td>1</td>\n",
       "      <td>Im a die hard Dads Army fan and nothing will e...</td>\n",
       "    </tr>\n",
       "  </tbody>\n",
       "</table>\n",
       "</div>"
      ],
      "text/plain": [
       "   label                                               text\n",
       "0      0  I grew up (b. 1965) watching and loving the Th...\n",
       "1      0  When I put this movie in my DVD player, and sa...\n",
       "2      0  Why do people who do not know what a particula...\n",
       "3      0  Even though I have great interest in Biblical ...\n",
       "4      1  Im a die hard Dads Army fan and nothing will e..."
      ]
     },
     "metadata": {},
     "output_type": "display_data"
    },
    {
     "name": "stdout",
     "output_type": "stream",
     "text": [
      "\n",
      "\u001b[1mInference:\u001b[0m The Datset consists of 2 features & 40000 samples.\n"
     ]
    }
   ],
   "source": [
    "# Importing the dataset\n",
    "\n",
    "df = pd.read_csv('dataset.csv', header=0)\n",
    "target = 'label'\n",
    "df.reset_index(drop=True, inplace=True)\n",
    "original_df = df.copy(deep=True)\n",
    "display(df.head())\n",
    "\n",
    "print('\\n\\033[1mInference:\\033[0m The Datset consists of {} features & {} samples.'.format(df.shape[1], df.shape[0]))"
   ]
  },
  {
   "cell_type": "code",
   "execution_count": 50,
   "metadata": {},
   "outputs": [
    {
     "name": "stdout",
     "output_type": "stream",
     "text": [
      "<class 'pandas.core.frame.DataFrame'>\n",
      "RangeIndex: 40000 entries, 0 to 39999\n",
      "Data columns (total 2 columns):\n",
      " #   Column  Non-Null Count  Dtype \n",
      "---  ------  --------------  ----- \n",
      " 0   label   40000 non-null  int64 \n",
      " 1   text    40000 non-null  object\n",
      "dtypes: int64(1), object(1)\n",
      "memory usage: 625.1+ KB\n"
     ]
    }
   ],
   "source": [
    "# Checking the dtypes of all the columns\n",
    "\n",
    "df.info()"
   ]
  },
  {
   "cell_type": "markdown",
   "metadata": {},
   "source": [
    "## Pre-processing\n",
    "\n",
    "<ol>\n",
    "    <li><strong>Checking for Null Elements:</strong> Identify and handle missing data to ensure a clean dataset.</li>\n",
    "    <li><strong>Removing Duplicates:</strong> Eliminate duplicate entries to avoid redundancy in the analysis.</li>\n",
    "    <li><strong>Converting to Lowercase:</strong> Standardize text to lowercase to maintain consistency.</li>\n",
    "    <li><strong>Removing Punctuations and Numbers:</strong> Clean the text by removing unnecessary symbols and digits.</li>\n",
    "    <li><strong>Stemming:</strong> Reduce words to their root forms (e.g., \"running\" becomes \"run\").</li>\n",
    "    <li><strong>Removing Stopwords:</strong> Remove common words (e.g., \"the\", \"is\") that do not contribute to sentiment.</li>\n",
    "    <li><strong>Tokenization:</strong> Split text into individual words or tokens for further processing.</li>\n",
    "    <li><strong>Vectorization:</strong> Convert text data into numerical format using techniques like TF-IDF.</li>\n",
    "</ol>"
   ]
  },
  {
   "cell_type": "code",
   "execution_count": 51,
   "metadata": {},
   "outputs": [
    {
     "name": "stdout",
     "output_type": "stream",
     "text": [
      "label    0\n",
      "text     0\n",
      "dtype: int64\n",
      "\n",
      "\u001b[1mInference:\u001b[0m The dataset doesn't have any null elements\n"
     ]
    }
   ],
   "source": [
    "# Check for null elements\n",
    "\n",
    "print(df.isnull().sum())\n",
    "print('\\n\\033[1mInference:\\033[0m The dataset doesn\\'t have any null elements')"
   ]
  },
  {
   "cell_type": "code",
   "execution_count": 52,
   "metadata": {},
   "outputs": [
    {
     "name": "stdout",
     "output_type": "stream",
     "text": [
      "\n",
      "\u001b[1mInference:\u001b[0m Number of duplicates dropped/fixed ---> 277\n"
     ]
    }
   ],
   "source": [
    "# Removal of any Duplicate rows (if any)\n",
    "\n",
    "counter = 0\n",
    "r,c = original_df.shape\n",
    "\n",
    "df1 = df.drop_duplicates()\n",
    "df1.reset_index(drop=True, inplace=True)\n",
    "\n",
    "if df1.shape==(r,c):\n",
    "    print('\\n\\033[1mInference:\\033[0m The dataset doesn\\'t have any duplicates')\n",
    "else:\n",
    "    print(f'\\n\\033[1mInference:\\033[0m Number of duplicates dropped/fixed ---> {r-df1.shape[0]}')"
   ]
  },
  {
   "cell_type": "code",
   "execution_count": 53,
   "metadata": {},
   "outputs": [
    {
     "name": "stderr",
     "output_type": "stream",
     "text": [
      "Processing Text: 100%|██████████| 39723/39723 [01:26<00:00, 458.56it/s]"
     ]
    },
    {
     "name": "stdout",
     "output_type": "stream",
     "text": [
      "   label                                               text\n",
      "0      0  grew b watch love thunderbird mate school watc...\n",
      "1      0  put movi dvd player sat coke chip expect hope ...\n",
      "2      0  peopl know particular time past like feel need...\n",
      "3      0  even though great interest biblic movi bore de...\n",
      "4      1  im die hard dad armi fan noth ever chang got t...\n",
      "\n",
      "\u001b[1mInference:\u001b[0m The text is now cleaned up with the removal of all punctuations, numbers, stopwords & stemming.\n"
     ]
    },
    {
     "name": "stderr",
     "output_type": "stream",
     "text": [
      "\n"
     ]
    }
   ],
   "source": [
    "import string\n",
    "from tqdm import tqdm\n",
    "from nltk.corpus import stopwords\n",
    "from nltk.stem.porter import PorterStemmer\n",
    "\n",
    "# Copy the original DataFrame\n",
    "df = df1.copy()\n",
    "\n",
    "# Preload stopwords and stemmer\n",
    "stop_words = set(stopwords.words('english'))\n",
    "stemmer = PorterStemmer()\n",
    "\n",
    "# Preprocessor function\n",
    "def preprocessor(text):\n",
    "    # Convert to lowercase\n",
    "    text = text.lower()\n",
    "    # Remove punctuations and numbers\n",
    "    text = ''.join([i for i in text if i in string.ascii_lowercase + ' '])\n",
    "    # Stemming and removing stopwords\n",
    "    text = ' '.join([stemmer.stem(word) for word in text.split() if word not in stop_words])\n",
    "    return text\n",
    "\n",
    "# Apply preprocessor with progress bar\n",
    "processed_texts = []\n",
    "for i in tqdm(range(df.shape[0]), desc=\"Processing Text\"):\n",
    "    processed_texts.append(preprocessor(df['text'].iloc[i]))\n",
    "\n",
    "# Assign processed texts back to DataFrame\n",
    "df['text'] = processed_texts\n",
    "\n",
    "# Display the first few rows\n",
    "print(df.head())\n",
    "\n",
    "df.head()\n",
    "\n",
    "print('\\n\\033[1mInference:\\033[0m The text is now cleaned up with the removal of all punctuations, numbers, stopwords & stemming.')"
   ]
  },
  {
   "cell_type": "code",
   "execution_count": 54,
   "metadata": {},
   "outputs": [
    {
     "name": "stdout",
     "output_type": "stream",
     "text": [
      "\n",
      "\u001b[1mInference:\u001b[0m TF-IDF Vectorization has been successfully applied with Porter Stemming.\n"
     ]
    }
   ],
   "source": [
    "# TF-IDF Vectorization\n",
    "from sklearn.feature_extraction.text import TfidfVectorizer\n",
    "\n",
    "# Tokenizer function\n",
    "def tokenizer(text):\n",
    "    return text.split()\n",
    "\n",
    "tfidf = TfidfVectorizer(strip_accents=None, lowercase=False, preprocessor=None, tokenizer=tokenizer, use_idf=True, norm='l2', smooth_idf=True)\n",
    "y = df.label.values\n",
    "x = tfidf.fit_transform(df.text)\n",
    "\n",
    "print('\\n\\033[1mInference:\\033[0m TF-IDF Vectorization has been successfully applied with Porter Stemming.')"
   ]
  },
  {
   "cell_type": "code",
   "execution_count": null,
   "metadata": {},
   "outputs": [
    {
     "name": "stdout",
     "output_type": "stream",
     "text": [
      "            \u001b[1mTarget Variable Distribution           \n"
     ]
    },
    {
     "data": {
      "image/png": "[encoded data removed]",
      "text/plain": [
       "<Figure size 1000x600 with 1 Axes>"
      ]
     },
     "metadata": {},
     "output_type": "display_data"
    },
    {
     "name": "stdout",
     "output_type": "stream",
     "text": [
      "\n",
      "\u001b[1mInference:\u001b[0m The Target Variable seems to be perfectly balanced!\n"
     ]
    }
   ],
   "source": [
    "# Analyze the distribution of the target variable\n",
    "\n",
    "print('\\033[1mTarget Variable Distribution'.center(55))\n",
    "\n",
    "plt.pie(df[target].value_counts(), labels=['Positive','Negative'], counterclock=False, shadow=True, explode=[0,0.1], autopct='%1.1f%%', radius=1, startangle=215)\n",
    "\n",
    "plt.show()\n",
    "\n",
    "print('\\n\\033[1mInference:\\033[0m The Target Variable seems to be perfectly balanced!')"
   ]
  },
  {
   "cell_type": "code",
   "execution_count": 181,
   "metadata": {},
   "outputs": [
    {
     "name": "stdout",
     "output_type": "stream",
     "text": [
      "Original set  --->  (39723, 1) (39723,) \n",
      "Training set  --->  (33764, 120700) (33764,) \n",
      "Testing set   --->  (5959, 120700)  (5959,)\n"
     ]
    }
   ],
   "source": [
    "# Splitting the data into training and testing sets\n",
    "from sklearn.model_selection import train_test_split\n",
    "\n",
    "X = df.drop([target],axis=1)\n",
    "Y = df[target]\n",
    "Train_X, Test_X, Train_Y, Test_Y = train_test_split(x, y, test_size=0.15, random_state=0)\n",
    "\n",
    "print('Original set  ---> ',X.shape,Y.shape,'\\nTraining set  ---> ',Train_X.shape,Train_Y.shape,'\\nTesting set   ---> ', Test_X.shape,'', Test_Y.shape)"
   ]
  },
  {
   "cell_type": "markdown",
   "metadata": {},
   "source": [
    "## Prototype"
   ]
  },
  {
   "cell_type": "code",
   "execution_count": 184,
   "metadata": {},
   "outputs": [
    {
     "name": "stdout",
     "output_type": "stream",
     "text": [
      "Logistic Regression (LR) Model Accuracy = 89.1%\n"
     ]
    }
   ],
   "source": [
    "from sklearn.metrics import confusion_matrix, classification_report, accuracy_score, f1_score\n",
    "from sklearn.linear_model import LogisticRegression\n",
    "\n",
    "# Building Logistic Regression Classifier\n",
    "LR_model = LogisticRegression()\n",
    "LR = LR_model.fit(Train_X, Train_Y)  # Train the model first\n",
    "\n",
    "# Make predictions\n",
    "pred = LR.predict(Test_X)\n",
    "\n",
    "# Accuracy\n",
    "# print('{}{}\\033[1m Evaluating {} \\033[0m{}{}\\n'.format('<'*3,'-'*35, \"Logistic Regression (LR)\", '-'*35,'>'*3))\n",
    "print(f'Logistic Regression (LR) Model Accuracy = {round(accuracy_score(Test_Y, pred), 3) * 100}%')"
   ]
  }
 ],
 "metadata": {
  "kernelspec": {
   "display_name": "env",
   "language": "python",
   "name": "python3"
  },
  "language_info": {
   "codemirror_mode": {
    "name": "ipython",
    "version": 3
   },
   "file_extension": ".py",
   "mimetype": "text/x-python",
   "name": "python",
   "nbconvert_exporter": "python",
   "pygments_lexer": "ipython3",
   "version": "3.12.1"
  }
 },
 "nbformat": 4,
 "nbformat_minor": 2
}
